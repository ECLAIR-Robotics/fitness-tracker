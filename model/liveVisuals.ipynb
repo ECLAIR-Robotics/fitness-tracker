{
 "cells": [
  {
   "cell_type": "code",
   "execution_count": 3,
   "metadata": {},
   "outputs": [
    {
     "name": "stderr",
     "output_type": "stream",
     "text": [
      "c:\\Users\\annab\\anaconda3\\lib\\site-packages\\matplotlib\\animation.py:973: UserWarning: Animation was deleted without rendering anything. This is most likely unintended. To prevent deletion, assign the Animation to a variable that exists for as long as you need the Animation.\n",
      "  warnings.warn(\n"
     ]
    },
    {
     "data": {
      "image/png": "[encoded data removed]",
      "text/plain": [
       "<Figure size 432x288 with 1 Axes>"
      ]
     },
     "metadata": {
      "needs_background": "light"
     },
     "output_type": "display_data"
    }
   ],
   "source": [
    "from datetime import datetime\n",
    "from matplotlib import pyplot\n",
    "from matplotlib.animation import FuncAnimation\n",
    "from random import randrange\n",
    "\n",
    "x_data, y_data = [], []\n",
    "\n",
    "figure = pyplot.figure()\n",
    "line, = pyplot.plot_date(x_data, y_data, '-')\n",
    "\n",
    "def update(frame):\n",
    "    x_data.append(datetime.now())\n",
    "    y_data.append(randrange(0, 100))\n",
    "    line.set_data(x_data, y_data)\n",
    "    figure.gca().relim()\n",
    "    figure.gca().autoscale_view()\n",
    "    return line,\n",
    "\n",
    "animation = FuncAnimation(figure, update, interval=200)\n",
    "\n",
    "pyplot.show()"
   ]
  }
 ],
 "metadata": {
  "kernelspec": {
   "display_name": "base",
   "language": "python",
   "name": "base"
  },
  "language_info": {
   "codemirror_mode": {
    "name": "ipython",
    "version": 3
   },
   "file_extension": ".py",
   "mimetype": "text/x-python",
   "name": "python",
   "nbconvert_exporter": "python",
   "pygments_lexer": "ipython3",
   "version": "3.9.7"
  }
 },
 "nbformat": 4,
 "nbformat_minor": 2
}
